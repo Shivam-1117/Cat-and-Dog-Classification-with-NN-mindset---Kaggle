{
 "cells": [
  {
   "cell_type": "code",
   "execution_count": 1,
   "metadata": {
    "_cell_guid": "b1076dfc-b9ad-4769-8c92-a6c4dae69d19",
    "_uuid": "8f2839f25d086af736a60e9eeb907d3b93b6e0e5"
   },
   "outputs": [],
   "source": [
    "import numpy as np\n",
    "import pandas as pd\n",
    "from PIL import Image\n",
    "from matplotlib import pyplot as plt\n",
    "import os\n",
    "import math"
   ]
  },
  {
   "cell_type": "markdown",
   "metadata": {},
   "source": [
    "***Pre-Processing the dataset***"
   ]
  },
  {
   "cell_type": "code",
   "execution_count": 2,
   "metadata": {
    "_cell_guid": "79c7e3d0-c299-4dcb-8224-4455121ee9b0",
    "_uuid": "d629ff2d2480ee46fbb7e2d37f6b5fab8052498a"
   },
   "outputs": [
    {
     "data": {
      "text/plain": [
       "(4005, 4000)"
      ]
     },
     "execution_count": 2,
     "metadata": {},
     "output_type": "execute_result"
    }
   ],
   "source": [
    "'''Pulling the photos from folders with their paths'''\n",
    "\n",
    "path_cats = []\n",
    "train_path_cats = \"../input/cat-and-dog/training_set/training_set/cats/\"\n",
    "for path in os.listdir(train_path_cats):\n",
    "    if '.jpg' in path:\n",
    "        path_cats.append(os.path.join(train_path_cats, path))\n",
    "path_dogs = []\n",
    "train_path_dogs = \"../input/cat-and-dog/training_set/training_set/dogs/\"\n",
    "for path in os.listdir(train_path_dogs):\n",
    "    if '.jpg' in path:\n",
    "        path_dogs.append(os.path.join(train_path_dogs, path))\n",
    "len(path_dogs), len(path_cats)"
   ]
  },
  {
   "cell_type": "code",
   "execution_count": 3,
   "metadata": {},
   "outputs": [],
   "source": [
    "'''Load training set'''\n",
    "\n",
    "'''total pics in training set =  8005\n",
    "    training_set = 6000 --- first 3000 of dogs and rest of cats\n",
    "    validation_set = 2000 --- first 1000 of dogs and rest of cats'''\n",
    "\n",
    "train_set_orig = np.zeros((6000, 64, 64, 3), dtype='float32')\n",
    "for i in range(6000):\n",
    "    if i < 3000:\n",
    "        image = Image.open(path_dogs[i])\n",
    "        img_resized = image.resize((64,64))\n",
    "        train_set_orig[i] = np.asarray(img_resized)\n",
    "    else:\n",
    "        image = Image.open(path_cats[i - 3000])\n",
    "        img_resized = image.resize((64,64))\n",
    "        train_set_orig[i] = np.asarray(img_resized)"
   ]
  },
  {
   "cell_type": "code",
   "execution_count": 4,
   "metadata": {},
   "outputs": [],
   "source": [
    "'''Load validation set'''\n",
    "\n",
    "val_set_orig = np.zeros((2000, 64, 64, 3), dtype='float32')\n",
    "for i in range(2000):\n",
    "    if i < 1000:\n",
    "        image = Image.open(path_dogs[i + 3000])\n",
    "        img_resized = image.resize((64,64))\n",
    "        val_set_orig[i] = np.asarray(img_resized)\n",
    "    else:\n",
    "        image = Image.open(path_cats[i + 2000])\n",
    "        img_resized = image.resize((64,64))\n",
    "        val_set_orig[i] = np.asarray(img_resized)"
   ]
  },
  {
   "cell_type": "code",
   "execution_count": 5,
   "metadata": {},
   "outputs": [
    {
     "name": "stdout",
     "output_type": "stream",
     "text": [
      "Training set labels(6000, 1)  validation set labels(2000, 1)\n"
     ]
    }
   ],
   "source": [
    "'''Labelling the training and validation set'''\n",
    "\n",
    "y_train_ = np.zeros((3000, 1))\n",
    "y_train_ = np.concatenate((y_train_, np.ones((3000, 1))))\n",
    "y_val = np.zeros((1000, 1))\n",
    "y_val = np.concatenate((y_val, np.ones((1000, 1))))\n",
    "print(\"Training set labels\" +str(y_train_.shape)+ \"  validation set labels\" + str(y_val.shape))"
   ]
  },
  {
   "cell_type": "code",
   "execution_count": 6,
   "metadata": {},
   "outputs": [],
   "source": [
    "'''Suffling training set pics'''\n",
    "\n",
    "r = np.arange(train_set_orig.shape[0])\n",
    "np.random.shuffle(r)\n",
    "train_set_x_orig = train_set_orig[r, :]\n",
    "y_train = y_train_[r, :]"
   ]
  },
  {
   "cell_type": "code",
   "execution_count": 7,
   "metadata": {},
   "outputs": [
    {
     "data": {
      "image/png": "[encoded data removed]",
      "text/plain": [
       "<Figure size 432x288 with 1 Axes>"
      ]
     },
     "metadata": {
      "needs_background": "light"
     },
     "output_type": "display_data"
    },
    {
     "name": "stdout",
     "output_type": "stream",
     "text": [
      "[1.]\n"
     ]
    }
   ],
   "source": [
    "'''Example of a image'''\n",
    "\n",
    "index = 0\n",
    "plt.imshow(np.uint8(train_set_x_orig[index]), interpolation='nearest')\n",
    "plt.show()\n",
    "print(y_train[index])"
   ]
  },
  {
   "cell_type": "markdown",
   "metadata": {},
   "source": [
    "***Summary of Processed data***"
   ]
  },
  {
   "cell_type": "code",
   "execution_count": 8,
   "metadata": {},
   "outputs": [
    {
     "name": "stdout",
     "output_type": "stream",
     "text": [
      "Number of training examples: m_train = 6000\n",
      "Number of validation examples: m_val = 2000\n",
      "Height/Width of each image: num_px = 64\n",
      "Each image is of size: (64, 64, 3)\n",
      "train_set_x shape: (6000, 64, 64, 3)\n",
      "train_set_y shape: (6000, 1)\n",
      "val_set_x shape: (2000, 64, 64, 3)\n",
      "val_set_y shape: (2000, 1)\n"
     ]
    }
   ],
   "source": [
    "m_train = train_set_x_orig.shape[0]\n",
    "m_val = val_set_orig.shape[0]\n",
    "num_px = train_set_x_orig.shape[1]\n",
    "\n",
    "print (\"Number of training examples: m_train = \" + str(m_train))\n",
    "print (\"Number of validation examples: m_val = \" + str(m_val))\n",
    "print (\"Height/Width of each image: num_px = \" + str(num_px))\n",
    "print (\"Each image is of size: (\" + str(num_px) + \", \" + str(num_px) + \", 3)\")\n",
    "print (\"train_set_x shape: \" + str(train_set_x_orig.shape))\n",
    "print (\"train_set_y shape: \" + str(y_train.shape))\n",
    "print (\"val_set_x shape: \" + str(val_set_orig.shape))\n",
    "print (\"val_set_y shape: \" + str(y_val.shape))"
   ]
  },
  {
   "cell_type": "markdown",
   "metadata": {},
   "source": [
    "***Flattening the training and validation arrays***"
   ]
  },
  {
   "cell_type": "code",
   "execution_count": 9,
   "metadata": {},
   "outputs": [
    {
     "name": "stdout",
     "output_type": "stream",
     "text": [
      "train_set_x_flatten shape: (6000, 12288)\n",
      "train_set_y shape: (6000, 1)\n",
      "val_set_x_flatten shape: (2000, 12288)\n",
      "val_set_y shape: (2000, 1)\n"
     ]
    }
   ],
   "source": [
    "'''Reshape the training and validation examples'''\n",
    "\n",
    "x_train = train_set_x_orig.reshape(6000,-1)\n",
    "x_val = val_set_orig.reshape(2000,-1)\n",
    "\n",
    "print (\"train_set_x_flatten shape: \" + str(x_train.shape))\n",
    "print (\"train_set_y shape: \" + str(y_train.shape))\n",
    "print (\"val_set_x_flatten shape: \" + str(x_val.shape))\n",
    "print (\"val_set_y shape: \" + str(y_val.shape))"
   ]
  },
  {
   "cell_type": "markdown",
   "metadata": {},
   "source": [
    "***Model for Cat/Dog Classification with neural network mindset***"
   ]
  },
  {
   "cell_type": "code",
   "execution_count": 10,
   "metadata": {},
   "outputs": [],
   "source": [
    "'''Standardizing dataset'''\n",
    "\n",
    "x_train = x_train /255\n",
    "x_val = x_val/255"
   ]
  },
  {
   "cell_type": "code",
   "execution_count": 11,
   "metadata": {},
   "outputs": [],
   "source": [
    "def sigmoid(z):\n",
    "    \n",
    "    '''Compute the sigmoid of z\n",
    "    Arguments:\n",
    "    z -- A scalar or numpy array of any size.\n",
    "    Return:\n",
    "    s -- sigmoid(z)'''\n",
    "    \n",
    "    s = 1/(1 + np.exp(-z))\n",
    "    return s"
   ]
  },
  {
   "cell_type": "code",
   "execution_count": 12,
   "metadata": {},
   "outputs": [],
   "source": [
    "def initialize_with_zeros(dim):\n",
    "    \n",
    "    '''This function creates a vector of zeros of shape (dim, 1) for w and initializes b t\n",
    "    o 0.\n",
    "    Argument:\n",
    "    dim -- size of the w vector we want (or number of parameters in this case)\n",
    "    Returns:\n",
    "    w -- initialized vector of shape (dim, 1)\n",
    "    b -- initialized scalar (corresponds to the bias)'''\n",
    "    \n",
    "    w = np.zeros((dim, 1))\n",
    "    b = 0\n",
    "    return w, b"
   ]
  },
  {
   "cell_type": "code",
   "execution_count": 13,
   "metadata": {},
   "outputs": [],
   "source": [
    "def random_mini_batches(X, Y, mini_batch_size, seed = 0):\n",
    "    \n",
    "    '''Creates a list of random minibatches from (X, Y)\n",
    "    Arguments:\n",
    "    X -- input data, of shape (number of examples, input size)\n",
    "    Y -- true \"label\" vector (1 for cat / 0 for dog), of shape (number of examples, 1)\n",
    "    mini_batch_size -- size of the mini-batches, integer\n",
    "    Returns:\n",
    "    mini_batches -- list of synchronous (mini_batch_X, mini_batch_Y)'''\n",
    "    \n",
    "    np.random.seed(seed)            \n",
    "    m = X.shape[0]                  # number of training examples\n",
    "    mini_batches = []\n",
    "        \n",
    "    # Shuffle (X, Y)\n",
    "    \n",
    "    permutation = list(np.random.permutation(m))\n",
    "    shuffled_X = X[permutation, :]\n",
    "    shuffled_Y = Y[permutation, :]\n",
    "\n",
    "    # Partition (shuffled_X, shuffled_Y). Minus the end case.\n",
    "    \n",
    "    num_complete_minibatches = math.floor(m/mini_batch_size) # number of mini batches of size mini_batch_size in your partitionning\n",
    "    for k in range(0, num_complete_minibatches):\n",
    "        mini_batch_X = shuffled_X[k*mini_batch_size:(k+1)*mini_batch_size, :]\n",
    "        mini_batch_Y = shuffled_Y[k*mini_batch_size:(k+1)*mini_batch_size, :]\n",
    "        mini_batch = (mini_batch_X, mini_batch_Y)\n",
    "        mini_batches.append(mini_batch)\n",
    "    \n",
    "    # Handling the end case (last mini-batch < mini_batch_size)\n",
    "    if m % mini_batch_size != 0:\n",
    "        mini_batch_X = shuffled_X[mini_batch_size * num_complete_minibatches::, :]\n",
    "        mini_batch_Y = shuffled_Y[mini_batch_size * num_complete_minibatches::, :]\n",
    "        mini_batch = (mini_batch_X, mini_batch_Y)\n",
    "        mini_batches.append(mini_batch)\n",
    "    \n",
    "    return mini_batches"
   ]
  },
  {
   "cell_type": "code",
   "execution_count": 14,
   "metadata": {},
   "outputs": [],
   "source": [
    "def propagate(w, b, X, Y):\n",
    "    \n",
    "    '''Implement the cost function and its gradient for the propagation explained above\n",
    "    Arguments:\n",
    "    w -- weights, a numpy array of size (num_px * num_px * 3, 1)\n",
    "    b -- bias, a scalar\n",
    "    X -- data of size (number of examples, num_px * num_px * 3)\n",
    "    Y -- true \"label\" vector (containing 0 if dog, 1 if cat) of size (number of examples, 1)\n",
    "    Return:\n",
    "    cost -- negative log-likelihood cost for logistic regression\n",
    "    dw -- gradient of the loss with respect to w, thus same shape as w\n",
    "    db -- gradient of the loss with respect to b, thus same shape as b'''\n",
    "    \n",
    "    m = X.shape[0]\n",
    "    \n",
    "    '''FORWARD PROPAGATION (FROM X TO COST)'''\n",
    "\n",
    "    A = (sigmoid(np.dot(w.T, X.T) + b)).T\n",
    "    cost = -(np.sum(Y*np.log(A) + (1 - Y)*np.log(1 - A)))/m\n",
    "    \n",
    "    '''BACKWARD PROPAGATION (TO FIND GRAD)'''\n",
    "\n",
    "    dw = np.dot(X.T, (A-Y))/m\n",
    "    db = np.sum(A-Y)/m\n",
    "    \n",
    "    cost = np.squeeze(cost)\n",
    "    grads = {\"dw\": dw,\n",
    "             \"db\": db}\n",
    "    return grads, cost"
   ]
  },
  {
   "cell_type": "code",
   "execution_count": 15,
   "metadata": {},
   "outputs": [],
   "source": [
    "def optimize(w, b, X, Y, num_epochs, learning_rate, mini_batch_size, print_cost = False):\n",
    "    \n",
    "    '''This function optimizes w and b by running a mini-batch gradient descent algorithm\n",
    "    Arguments:\n",
    "    w -- weights, a numpy array of size (num_px * num_px * 3, 1)\n",
    "    b -- bias, a scalar\n",
    "    X -- data of shape (number of examples, num_px * num_px * 3)\n",
    "    Y -- true \"label\" vector (containing 0 if dog, 1 if cat), of shape (number of examples, 1)\n",
    "    num_epochs -- number of epochs of the optimization loop\n",
    "    mini_batch_size --- number of training examples in one batch\n",
    "    learning_rate -- learning rate of the gradient descent update rule\n",
    "    print_cost -- True to print the loss every 10 steps\n",
    "    Returns:\n",
    "    params -- dictionary containing the weights w and bias b\n",
    "    grads -- dictionary containing the gradients of the weights and bias with respect to the cost function\n",
    "    costs -- list of the costs computed during the optimization, this will be used to plot the learning curve.'''\n",
    "    seed = 0\n",
    "    costs = []\n",
    "    for i in range(num_epochs):\n",
    "        \n",
    "        # Define the random minibatches. We increment the seed to reshuffle differently the dataset after each epoch\n",
    "        \n",
    "        seed = seed + 1\n",
    "        minibatches = random_mini_batches(X, Y, mini_batch_size, seed)\n",
    "        m = len(minibatches)\n",
    "        cost_total = 0                                                # total cost for one epoch\n",
    "        \n",
    "        for minibatch in minibatches:\n",
    "            (minibatch_X, minibatch_Y) = minibatch\n",
    "            grads, cost = propagate(w, b, minibatch_X, minibatch_Y)\n",
    "            cost_total = cost_total + cost\n",
    "            dw = grads[\"dw\"]\n",
    "            db = grads[\"db\"]\n",
    "            w = w - learning_rate*dw\n",
    "            b = b - learning_rate*db\n",
    "        cost_avg = cost_total / m                                    # average cost for one epoch\n",
    "        if i % 10 == 0:\n",
    "            costs.append(cost_avg)\n",
    "        if print_cost and i % 10 == 0:\n",
    "            print (\"Cost after epochs %i: %f\" %(i, cost_avg))\n",
    "    params = {\"w\": w,\n",
    "              \"b\": b}\n",
    "    grads = {\"dw\": dw,\n",
    "             \"db\": db}\n",
    "    return params,grads, costs"
   ]
  },
  {
   "cell_type": "code",
   "execution_count": 16,
   "metadata": {},
   "outputs": [],
   "source": [
    "def predict(w, b, X):\n",
    "    \n",
    "    '''Predict whether the label is 0 or 1 using learned logistic regression parameters (w, b)\n",
    "    Arguments:\n",
    "    w -- weights, a numpy array of size (num_px * num_px * 3, 1)\n",
    "    b -- bias, a scalar\n",
    "    X -- data of size (number of examples, num_px * num_px * 3)\n",
    "    Returns:\n",
    "    Y_prediction -- a numpy array (vector) containing all predictions (0/1) for the examples in X'''\n",
    "    \n",
    "    m = X.shape[0]\n",
    "    Y_prediction = np.zeros((m,1))\n",
    "    w = w.reshape(X.shape[1], 1)\n",
    "    A = sigmoid(np.dot(w.T,X.T) + b)\n",
    "    for i in range(A.shape[1]):\n",
    "        if A[0, i]>=0.5:\n",
    "            Y_prediction[i, 0] = 1\n",
    "        else:\n",
    "            Y_prediction[i, 0] = 0\n",
    "    return Y_prediction"
   ]
  },
  {
   "cell_type": "code",
   "execution_count": 17,
   "metadata": {},
   "outputs": [],
   "source": [
    "def model(X_train, Y_train, X_val, Y_val, num_epochs = 100, learning_rate = 0.0006, mini_batch_size = 32, print_cost = False ):\n",
    "    \n",
    "    '''Builds the logistic regression model by calling the function you've implemented previously\n",
    "    Arguments:\n",
    "    X_train -- training set represented by a numpy array of shape ( m_train, num_px * num_px * 3)\n",
    "    Y_train -- training labels represented by a numpy array (vector) of shape (m_train, 1)\n",
    "    X_val -- test set represented by a numpy array of shape (m_test, num_px * num_px * 3)\n",
    "    Y_val -- test labels represented by a numpy array (vector) of shape (m_test, 1)\n",
    "    num_epochs -- number of epochs of the optimization loop\n",
    "    learning_rate -- hyperparameter representing the learning rate used in the update rule of optimize()\n",
    "    mini_batch_size --- number of training examples in one batch\n",
    "    print_cost -- Set to true to print the cost every 10 iterations\n",
    "    Returns:\n",
    "    d -- dictionary containing information about the model.'''\n",
    "    \n",
    "    w, b = initialize_with_zeros(np.size(X_train,1))\n",
    "    \n",
    "    parameters, grads, costs = optimize(w, b, X_train, Y_train, num_epochs, learning_rate, mini_batch_size, print_cost)\n",
    "    \n",
    "    w = parameters[\"w\"]\n",
    "    b = parameters[\"b\"]\n",
    "    \n",
    "    Y_prediction_val = predict(w, b, X_val)\n",
    "    Y_prediction_train = predict(w, b, X_train)\n",
    "    \n",
    "    print(\"train set accuracy for model: {} %\".format(100 - np.mean(np.abs(Y_prediction_train - Y_train)) * 100))\n",
    "    print(\"validation set accuracy for model: {} %\".format(100 - np.mean(np.abs(Y_prediction_val - Y_val)) * 100))\n",
    "    d = {\"costs\": costs,\n",
    "         \"Y_prediction_val\": Y_prediction_val,\n",
    "         \"Y_prediction_train\" : Y_prediction_train,\n",
    "         \"w\" : w,\n",
    "         \"b\" : b,\n",
    "         \"learning_rate\" : learning_rate,\n",
    "         \"num_epochs\": num_epochs}\n",
    "    return d"
   ]
  },
  {
   "cell_type": "code",
   "execution_count": 18,
   "metadata": {},
   "outputs": [
    {
     "name": "stdout",
     "output_type": "stream",
     "text": [
      "Cost after epochs 0: 0.690514\n",
      "Cost after epochs 10: 0.657914\n",
      "Cost after epochs 20: 0.644221\n",
      "Cost after epochs 30: 0.637143\n",
      "Cost after epochs 40: 0.628446\n",
      "Cost after epochs 50: 0.621274\n",
      "Cost after epochs 60: 0.616775\n",
      "Cost after epochs 70: 0.610563\n",
      "Cost after epochs 80: 0.604731\n",
      "Cost after epochs 90: 0.599270\n",
      "Cost after epochs 100: 0.596098\n",
      "Cost after epochs 110: 0.590716\n",
      "Cost after epochs 120: 0.586861\n",
      "Cost after epochs 130: 0.584356\n",
      "Cost after epochs 140: 0.579601\n",
      "Cost after epochs 150: 0.575131\n",
      "Cost after epochs 160: 0.573787\n",
      "Cost after epochs 170: 0.569581\n",
      "Cost after epochs 180: 0.566923\n",
      "Cost after epochs 190: 0.563898\n",
      "train set accuracy for model: 73.16666666666667 %\n",
      "validation set accuracy for model: 58.15 %\n"
     ]
    }
   ],
   "source": [
    "d = model(x_train, y_train, x_val, y_val, num_epochs = 200, learning_rate = 0.0006, mini_batch_size = 32, print_cost = True)"
   ]
  },
  {
   "cell_type": "markdown",
   "metadata": {},
   "source": [
    "***Learning Curve***"
   ]
  },
  {
   "cell_type": "code",
   "execution_count": 19,
   "metadata": {},
   "outputs": [
    {
     "data": {
      "image/png": "[encoded data removed]",
      "text/plain": [
       "<Figure size 432x288 with 1 Axes>"
      ]
     },
     "metadata": {
      "needs_background": "light"
     },
     "output_type": "display_data"
    }
   ],
   "source": [
    "plt.plot(range(0, 200, 10), d[\"costs\"], c=\"r\", linewidth=1)\n",
    "plt.xlabel(\"number of epochs\", fontsize=14)\n",
    "plt.ylabel(\"cost\", fontsize=14)\n",
    "plt.title(\"Learning rate =\" + str(0.0006))\n",
    "plt.grid()"
   ]
  },
  {
   "cell_type": "markdown",
   "metadata": {},
   "source": [
    "***Sklearn Logistic Regression Model***"
   ]
  },
  {
   "cell_type": "code",
   "execution_count": 20,
   "metadata": {},
   "outputs": [],
   "source": [
    "'''Reshaping the label vectors, to be used for sklearn logistic regression library'''\n",
    "\n",
    "y_val_ = np.reshape(y_val, (y_val.shape[0], )).reshape(-1) \n",
    "y_train_ = np.reshape(y_train, (y_train.shape[0], )).reshape(-1)"
   ]
  },
  {
   "cell_type": "code",
   "execution_count": 21,
   "metadata": {},
   "outputs": [
    {
     "name": "stdout",
     "output_type": "stream",
     "text": [
      "train set accuracy using Sklearn: 79.65 %\n",
      "validation set accuracy using Sklearn: 56.95 %\n"
     ]
    }
   ],
   "source": [
    "from sklearn.linear_model import LogisticRegression\n",
    "from sklearn.metrics import confusion_matrix\n",
    "LR = LogisticRegression(C=0.01, solver='liblinear')\n",
    "LR.fit(x_train,y_train_)\n",
    "print(\"train set accuracy using Sklearn: {} %\".format(LR.score(x_train, y_train_.T)*100))\n",
    "print(\"validation set accuracy using Sklearn: {} %\".format(LR.score(x_val, y_val_.T)*100))"
   ]
  }
 ],
 "metadata": {
  "kernelspec": {
   "display_name": "Python 3",
   "language": "python",
   "name": "python3"
  },
  "language_info": {
   "codemirror_mode": {
    "name": "ipython",
    "version": 3
   },
   "file_extension": ".py",
   "mimetype": "text/x-python",
   "name": "python",
   "nbconvert_exporter": "python",
   "pygments_lexer": "ipython3",
   "version": "3.6.6"
  }
 },
 "nbformat": 4,
 "nbformat_minor": 4
}
